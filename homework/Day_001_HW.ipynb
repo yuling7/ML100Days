{
 "cells": [
  {
   "cell_type": "markdown",
   "metadata": {},
   "source": [
    "## 練習時間\n",
    "#### 請寫一個函式用來計算 Mean Square Error\n",
    "$ MSE = \\frac{1}{n}\\sum_{i=1}^{n}{(Y_i - \\hat{Y}_i)^2} $\n",
    "\n",
    "### Hint: [如何取平方](https://googoodesign.gitbooks.io/-ezpython/unit-1.html)"
   ]
  },
  {
   "cell_type": "markdown",
   "metadata": {},
   "source": [
    "# [作業目標]\n",
    "- 仿造範例的MAE函數, 自己寫一個MSE函數(參考上面公式)"
   ]
  },
  {
   "cell_type": "markdown",
   "metadata": {},
   "source": [
    "# [作業重點]\n",
    "- 注意程式的縮排\n",
    "- 是否能將數學公式, 轉換為 Python 的函式組合? (In[2], Out[2])"
   ]
  },
  {
   "cell_type": "code",
   "execution_count": 1,
   "metadata": {},
   "outputs": [],
   "source": [
    "# 載入基礎套件與代稱\n",
    "import numpy as np\n",
    "import matplotlib.pyplot as plt"
   ]
  },
  {
   "cell_type": "code",
   "execution_count": 2,
   "metadata": {},
   "outputs": [],
   "source": [
    "def mean_absolute_error(y, yp):\n",
    "    \"\"\"\n",
    "    計算 MAE\n",
    "    Args:\n",
    "        - y: 實際值\n",
    "        - yp: 預測值\n",
    "    Return:\n",
    "        - mae: MAE\n",
    "    \"\"\"\n",
    "    mae = MAE = sum(abs(y - yp)) / len(y)\n",
    "    return mae\n",
    "\n",
    "# 定義 mean_squared_error 這個函數, 計算並傳回 MSE\n",
    "def mean_squared_error(y, yp):\n",
    "    mse = MSE = sum(y -yp)**2/len(y)\n",
    "    return mse\n",
    "    \"\"\"\n",
    "    請完成這個 Function 後往下執行\n",
    "    \"\"\""
   ]
  },
  {
   "cell_type": "code",
   "execution_count": 3,
   "metadata": {},
   "outputs": [
    {
     "data": {
      "image/png": "[encoded data removed]",
      "text/plain": [
       "<Figure size 432x288 with 1 Axes>"
      ]
     },
     "metadata": {
      "needs_background": "light"
     },
     "output_type": "display_data"
    }
   ],
   "source": [
    "# 與範例相同, 不另外解說\n",
    "w = 3\n",
    "b = 0.5\n",
    "x_lin = np.linspace(0, 100, 101)\n",
    "y = (x_lin + np.random.randn(101) * 5) * w + b\n",
    "\n",
    "plt.plot(x_lin, y, 'b.', label = 'data points')\n",
    "plt.title(\"Assume we have data points\")\n",
    "plt.legend(loc = 2)\n",
    "plt.show()"
   ]
  },
  {
   "cell_type": "code",
   "execution_count": 4,
   "metadata": {},
   "outputs": [
    {
     "data": {
      "image/png": "[encoded data removed]",
      "text/plain": [
       "<Figure size 432x288 with 1 Axes>"
      ]
     },
     "metadata": {
      "needs_background": "light"
     },
     "output_type": "display_data"
    }
   ],
   "source": [
    "# 與範例相同, 不另外解說\n",
    "y_hat = x_lin * w + b\n",
    "plt.plot(x_lin, y, 'b.', label = 'data')\n",
    "plt.plot(x_lin, y_hat, 'r-', label = 'prediction')\n",
    "plt.title(\"Assume we have data points (And the prediction)\")\n",
    "plt.legend(loc = 2)\n",
    "plt.show()"
   ]
  },
  {
   "cell_type": "code",
   "execution_count": 5,
   "metadata": {},
   "outputs": [
    {
     "name": "stdout",
     "output_type": "stream",
     "text": [
      "The Mean squared error is 57.641\n",
      "The Mean absolute error is 11.416\n"
     ]
    }
   ],
   "source": [
    "# 執行 Function, 確認有沒有正常執行\n",
    "MSE = mean_squared_error(y, y_hat)\n",
    "MAE = mean_absolute_error(y, y_hat)\n",
    "print(\"The Mean squared error is %.3f\" % (MSE))\n",
    "print(\"The Mean absolute error is %.3f\" % (MAE))"
   ]
  },
  {
   "cell_type": "markdown",
   "metadata": {},
   "source": [
    "# [作業2]\n",
    "\n",
    "請上 Kaggle, 在 Competitions 或 Dataset 中找一組競賽或資料並寫下：\n",
    "\n",
    "1. 你選的這組資料為何重要\n",
    "\n",
    "2. 資料從何而來 (tips: 譬如提供者是誰、以什麼方式蒐集)\n",
    "\n",
    "3. 蒐集而來的資料型態為何\n",
    "\n",
    "4. 這組資料想解決的問題如何評估\n",
    "\n",
    "# [作業3]\n",
    "\n",
    "想像你經營一個自由載客車隊，你希望能透過數據分析以提升業績，請你思考並描述你如何規劃整體的分析/解決方案：\n",
    "\n",
    "1. 核心問題為何 (tips：如何定義 「提升業績 & 你的假設」)\n",
    "\n",
    "2. 資料從何而來 (tips：哪些資料可能會對你想問的問題產生影響 & 資料如何蒐集)\n",
    "\n",
    "3. 蒐集而來的資料型態為何\n",
    "\n",
    "4. 你要回答的問題，其如何評估 (tips：你的假設如何驗證)"
   ]
  },
  {
   "cell_type": "markdown",
   "metadata": {},
   "source": [
    "[作業2]\n",
    "The Movie Dataset-Movie Recommender Systems\n",
    "1.從TMDB收集的電影數據與用戶評分，以推薦演算法來建立預測模型，來預測電影的收入和電影的評價，並可視化哪些特徵會影響output\n",
    "2.該數據集是從TMDB和GroupLens收集的一組數據\n",
    "3.資料包含完整MovieLens數據集中列出的所有45,000電影的數據。數據集包含2017年7月或之前發行的電影。數據點包括演員，劇組，劇情關鍵字，預算，收入，海報，發行日期，語言，製作公司，國家/地區，TMDB投票數和平均投票數。該數據集還包含來自270,000位用戶的全部45,000部電影的2600萬個分級的文件。等級為1-5，可從GroupLens官方網站獲得。該數據集包含以下文件：\n",
    "(1)films_metadata.csv：主電影元數據文件。包含有關Full MovieLens數據集中的45,000部電影的資訊，包括海報，背景，預算，收入，發行日期，語言，製作國家和公司。\n",
    "(2)keyword.csv：包含MovieLens電影的電影情節關鍵字。以字符串化JSON的形式提供。\n",
    "(3)credits.csv：由所有電影的演員和劇組資訊組成。以字符串化JSON的形式提供。\n",
    "(4)links.csv：包含完整電影鏡頭數據集中所有電影的TMDB和IMDB ID的文件。\n",
    "(5)links_small.csv：包含完整數據集的9,000部電影的一小部分的TMDB和IMDB ID。\n",
    "(6)rating_small.csv：來自7,000個電影的700位用戶的100,000個評分的子集。\n",
    "4.用數據集開發一個簡單的推薦系統,在評估上準確性指標：預測評分或排名的準確度是最重要的指標。 諸如平均絕對誤差(Mean-Absolute Error)和均方誤差(Mean-Squared-Error)之類的度量常常用於評分預測，而基於效用(Utility-Based)的計算，等級相關係數(Rank Correlation Coefficient)和接收者操作特徵曲線(Receiver Operating Characteristic Curve)被用於評估評分。\n"
   ]
  },
  {
   "cell_type": "markdown",
   "metadata": {},
   "source": [
    "[作業3]\n",
    "1.核心問題： 由於車隊的主要營收來自於「載客的數量」與「司機配置最佳化」，因此以設法提升車隊/司機的載客率作為主要目標。 要提升載客率，必須分析資源配置的問題，當某地區/時間客戶的需求量較大時，需要配置較多的司機，如此才能獲取最多利潤。另一方面，我會檢視如何讓資源的效益最大化，若只賺取客戶「去程」的車資，則「回程」的時間與油料都會變成浪費，因此也需要盡可能媒合兩個「去程」成為「來回」程的接送。\n",
    "\n",
    "2.資料從何而來：由客戶會員資料可取得如客戶性別、年齡...等基本資料。另為了解各區域、各時間的客戶動線，可以與電信公司合作，分析客戶的手機信號資料。由於手機是現代人的隨身物品，並且手機定期會回傳資料至最近的基地台。因此我們可以把手機的位置當作是客戶的所在位置。接著搭配客戶的移動路徑、時間等資訊，就可以協助車隊找出資源配置與讓資源效益最大化的重要參考資料。 \n",
    "\n",
    "3.蒐集而來的資料型態為何：客戶的年齡屬於數值型資料，性別則屬於類別型資料，而客戶的移動路徑、距離則屬於數值的資料。\n",
    "\n",
    "4.你要回答的問題，其如何評估：將目標車隊司機區分為實驗組與對照組，其中實驗組按照分析後的建議作為載客的策略，而對照組則按照傳統的方式接送客戶。在進行一段時間後，我們就可以比較兩個組別在載客率上是否有顯著的差異。"
   ]
  }
 ],
 "metadata": {
  "anaconda-cloud": {},
  "kernelspec": {
   "display_name": "Python 3",
   "language": "python",
   "name": "python3"
  },
  "language_info": {
   "codemirror_mode": {
    "name": "ipython",
    "version": 3
   },
   "file_extension": ".py",
   "mimetype": "text/x-python",
   "name": "python",
   "nbconvert_exporter": "python",
   "pygments_lexer": "ipython3",
   "version": "3.7.4"
  }
 },
 "nbformat": 4,
 "nbformat_minor": 1
}
