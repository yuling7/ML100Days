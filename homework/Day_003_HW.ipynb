{
 "cells": [
  {
   "cell_type": "markdown",
   "metadata": {},
   "source": [
    "## [作業目標]\n",
    "持續接觸有關機器學習的相關專案與最新技術"
   ]
  },
  {
   "cell_type": "markdown",
   "metadata": {},
   "source": [
    "## [作業重點]\n",
    "透過觀察頂尖公司的機器學習文章，來了解各公司是怎麼應用機器學習在實際的專案上"
   ]
  },
  {
   "cell_type": "markdown",
   "metadata": {},
   "source": [
    "## [作業]\n",
    "今天的作業希望大家能夠看看全球機器學習巨頭們在做的機器學習專案。以 google 為例，下圖是 Google 內部專案使用機器學習的數量，隨著時間進展，現在早已超過 2000 個專案在使用機器學習。"
   ]
  },
  {
   "cell_type": "markdown",
   "metadata": {},
   "source": [
    "![image](https://cdn-images-1.medium.com/max/800/1*U_L8qI8RmYS-MOBrYvXhSA.png)"
   ]
  },
  {
   "cell_type": "markdown",
   "metadata": {},
   "source": [
    "底下幫同學整理幾間知名企業的 blog 或機器學習網站 (自行搜尋也可)，這些網站都會整理最新的機器學習專案或者是技術文章，請挑選一篇文章閱讀並試著回答\n",
    "1. 專案的目標？ (要解決什麼問題）\n",
    "2. 使用的技術是？ (只需知道名稱即可，例如：使用 CNN 卷積神經網路做影像分類)\n",
    "3. 資料來源？ "
   ]
  },
  {
   "cell_type": "markdown",
   "metadata": {},
   "source": [
    "- [Google AI blog](https://ai.googleblog.com/)\n",
    "- [Facebook Research blog](https://research.fb.com/blog/)\n",
    "- [Apple machine learning journal](https://machinelearning.apple.com/)\n",
    "- [機器之心](https://www.jiqizhixin.com/)\n",
    "- [雷鋒網](http://www.leiphone.com/category/ai)"
   ]
  },
  {
   "cell_type": "markdown",
   "metadata": {},
   "source": [
    "https://blog.google/technology/health/making-data-useful-public-health/?linkId=99855437\n",
    "Google推出公開數據集以及建模工具助力抗疫\n",
    "近日，Google各團隊正在為鑽研新冠狀疫情對健康和經濟的影響的流行病學家，分析師和研究人員科學界提供工具和資源。在谷歌雲的幫助下，谷歌開發了COVID-19開放數據存儲庫，包含了來自50個國家/地區的COVID-19流行病學數據和相關變量（例如經濟指標或人口統計數據）的全面開放源資源。此外，谷歌的研究人員還提供了有關如何使用TensorFlow概率（TFP）實施定制流行病學模型的示例，TensorFlow概率（TFP）是一個用於建立概率模型的函式庫，該模型可以測量預測的信心。\n",
    "Google研究人員開發了一種基於開源代理的模擬器，該模擬器利用真實世界的數據來模擬，以幫助公共衛生組織調整其暴露通知參數。例如，模擬器可以考慮不同的疾病和傳播特徵，人們到訪的地點數量以及在這些地點所花費的時間。我們還通過考慮現實世界中的流動性以及不同工作場所部門之間互動的代表性模型，為牛津基於代理的模擬器做出了貢獻，以了解暴露通知應用程序對COVID-19大流行的影響。"
   ]
  }
 ],
 "metadata": {
  "kernelspec": {
   "display_name": "Python 3",
   "language": "python",
   "name": "python3"
  },
  "language_info": {
   "codemirror_mode": {
    "name": "ipython",
    "version": 3
   },
   "file_extension": ".py",
   "mimetype": "text/x-python",
   "name": "python",
   "nbconvert_exporter": "python",
   "pygments_lexer": "ipython3",
   "version": "3.7.4"
  }
 },
 "nbformat": 4,
 "nbformat_minor": 2
}
